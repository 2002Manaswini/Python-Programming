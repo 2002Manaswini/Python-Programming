{
 "cells": [
  {
   "cell_type": "markdown",
   "id": "176388ad",
   "metadata": {},
   "source": [
    "## Magic Methods"
   ]
  },
  {
   "cell_type": "markdown",
   "id": "0807947d",
   "metadata": {},
   "source": [
    "Dunder or magic methods in Python are the methods having two prefix and suffix underscores in the method name. "
   ]
  },
  {
   "cell_type": "markdown",
   "id": "fef57726",
   "metadata": {},
   "source": [
    "These are commonly used for operator overloading."
   ]
  },
  {
   "cell_type": "markdown",
   "id": "d74db3a8",
   "metadata": {},
   "source": [
    "Whenever a class is instantiated __new__ and __init__ methods are called. "
   ]
  },
  {
   "cell_type": "markdown",
   "id": "ecd14b8f",
   "metadata": {},
   "source": [
    "__New__ method will be called when an object is created and __init__ method will be called to initialize the object."
   ]
  },
  {
   "cell_type": "code",
   "execution_count": 1,
   "id": "9bc2a7b4",
   "metadata": {},
   "outputs": [],
   "source": [
    "class car():\n",
    "    def __new__(self,window,seat,enginetype):\n",
    "        print(\"The object is getting created\")\n",
    "    def __init__(self,window,seat,enginetype):\n",
    "        self.window=window\n",
    "        self.seat=seat\n",
    "        self.enginetype=enginetype\n",
    "    def __str__(self):\n",
    "        return \"The object has been initialized\"\n",
    "    def __sizeof__(self):\n",
    "        return \"This displays size of the object\"\n",
    "    def drive(self):\n",
    "        print(\"The Person drives the car\")\n",
    "    "
   ]
  },
  {
   "cell_type": "code",
   "execution_count": 2,
   "id": "5f4c602b",
   "metadata": {},
   "outputs": [
    {
     "name": "stdout",
     "output_type": "stream",
     "text": [
      "The object is getting created\n"
     ]
    }
   ],
   "source": [
    "c=car(4,5,\"diesel\")"
   ]
  },
  {
   "cell_type": "code",
   "execution_count": 3,
   "id": "b9ed0383",
   "metadata": {},
   "outputs": [
    {
     "name": "stdout",
     "output_type": "stream",
     "text": [
      "None\n"
     ]
    }
   ],
   "source": [
    "print(c)"
   ]
  },
  {
   "cell_type": "code",
   "execution_count": 4,
   "id": "011848e8",
   "metadata": {},
   "outputs": [
    {
     "data": {
      "text/plain": [
       "'None'"
      ]
     },
     "execution_count": 4,
     "metadata": {},
     "output_type": "execute_result"
    }
   ],
   "source": [
    "c.__str__()"
   ]
  },
  {
   "cell_type": "code",
   "execution_count": 5,
   "id": "792f45a8",
   "metadata": {},
   "outputs": [
    {
     "data": {
      "text/plain": [
       "16"
      ]
     },
     "execution_count": 5,
     "metadata": {},
     "output_type": "execute_result"
    }
   ],
   "source": [
    "c.__sizeof__()"
   ]
  },
  {
   "cell_type": "code",
   "execution_count": 6,
   "id": "fb31587d",
   "metadata": {},
   "outputs": [
    {
     "data": {
      "text/plain": [
       "['__bool__',\n",
       " '__class__',\n",
       " '__delattr__',\n",
       " '__dir__',\n",
       " '__doc__',\n",
       " '__eq__',\n",
       " '__format__',\n",
       " '__ge__',\n",
       " '__getattribute__',\n",
       " '__gt__',\n",
       " '__hash__',\n",
       " '__init__',\n",
       " '__init_subclass__',\n",
       " '__le__',\n",
       " '__lt__',\n",
       " '__ne__',\n",
       " '__new__',\n",
       " '__reduce__',\n",
       " '__reduce_ex__',\n",
       " '__repr__',\n",
       " '__setattr__',\n",
       " '__sizeof__',\n",
       " '__str__',\n",
       " '__subclasshook__']"
      ]
     },
     "execution_count": 6,
     "metadata": {},
     "output_type": "execute_result"
    }
   ],
   "source": [
    "dir(c)"
   ]
  },
  {
   "cell_type": "code",
   "execution_count": null,
   "id": "0b0bff77",
   "metadata": {},
   "outputs": [],
   "source": []
  },
  {
   "cell_type": "code",
   "execution_count": null,
   "id": "aca6397e",
   "metadata": {},
   "outputs": [],
   "source": []
  },
  {
   "cell_type": "code",
   "execution_count": null,
   "id": "2e1dac42",
   "metadata": {},
   "outputs": [],
   "source": []
  }
 ],
 "metadata": {
  "kernelspec": {
   "display_name": "Python 3 (ipykernel)",
   "language": "python",
   "name": "python3"
  },
  "language_info": {
   "codemirror_mode": {
    "name": "ipython",
    "version": 3
   },
   "file_extension": ".py",
   "mimetype": "text/x-python",
   "name": "python",
   "nbconvert_exporter": "python",
   "pygments_lexer": "ipython3",
   "version": "3.9.7"
  }
 },
 "nbformat": 4,
 "nbformat_minor": 5
}
