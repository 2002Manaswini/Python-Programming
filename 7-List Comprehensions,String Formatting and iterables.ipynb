{
 "cells": [
  {
   "cell_type": "markdown",
   "id": "b9071bbd",
   "metadata": {},
   "source": [
    "## List Comprehension"
   ]
  },
  {
   "cell_type": "markdown",
   "id": "bfd711ee",
   "metadata": {},
   "source": [
    "List comprehension provides a concise way to create a list."
   ]
  },
  {
   "cell_type": "markdown",
   "id": "0806e3fd",
   "metadata": {},
   "source": [
    "List comprehension offers a shorter syntax when you want to create a new list based on the values of an existing list. "
   ]
  },
  {
   "cell_type": "code",
   "execution_count": 1,
   "id": "3d5d4af8",
   "metadata": {},
   "outputs": [],
   "source": [
    "ls1=[]\n",
    "def lst_sq(ls):\n",
    "    for i in ls:\n",
    "        ls1.append(i*i)\n",
    "    "
   ]
  },
  {
   "cell_type": "code",
   "execution_count": 2,
   "id": "6d814b7c",
   "metadata": {},
   "outputs": [],
   "source": [
    "ls=[1,2,3,4,5,6,7]\n",
    "lst_sq(ls)"
   ]
  },
  {
   "cell_type": "code",
   "execution_count": 3,
   "id": "6ca9b30d",
   "metadata": {},
   "outputs": [
    {
     "data": {
      "text/plain": [
       "[1, 4, 9, 16, 25, 36, 49]"
      ]
     },
     "execution_count": 3,
     "metadata": {},
     "output_type": "execute_result"
    }
   ],
   "source": [
    "ls1"
   ]
  },
  {
   "cell_type": "markdown",
   "id": "e869dc92",
   "metadata": {},
   "source": [
    "##### Using list comprehension :"
   ]
  },
  {
   "cell_type": "markdown",
   "id": "d2cc0117",
   "metadata": {},
   "source": [
    "finding square of numbers in a list-"
   ]
  },
  {
   "cell_type": "code",
   "execution_count": 4,
   "id": "db9b03a0",
   "metadata": {},
   "outputs": [],
   "source": [
    "ls2=[i*i for i in ls]"
   ]
  },
  {
   "cell_type": "code",
   "execution_count": 5,
   "id": "c3dee205",
   "metadata": {},
   "outputs": [
    {
     "data": {
      "text/plain": [
       "[1, 4, 9, 16, 25, 36, 49]"
      ]
     },
     "execution_count": 5,
     "metadata": {},
     "output_type": "execute_result"
    }
   ],
   "source": [
    "ls2"
   ]
  },
  {
   "cell_type": "markdown",
   "id": "ef060734",
   "metadata": {},
   "source": [
    "finding even number-"
   ]
  },
  {
   "cell_type": "code",
   "execution_count": 6,
   "id": "66d5eb9d",
   "metadata": {},
   "outputs": [],
   "source": [
    "l1=[1,2,3,4,5,6,7,8,9]"
   ]
  },
  {
   "cell_type": "code",
   "execution_count": 7,
   "id": "ae4a7ef4",
   "metadata": {},
   "outputs": [],
   "source": [
    "l2=[i for i in l1 if i%2==0]"
   ]
  },
  {
   "cell_type": "code",
   "execution_count": 8,
   "id": "3aad9d3e",
   "metadata": {},
   "outputs": [
    {
     "data": {
      "text/plain": [
       "[2, 4, 6, 8]"
      ]
     },
     "execution_count": 8,
     "metadata": {},
     "output_type": "execute_result"
    }
   ],
   "source": [
    "l2"
   ]
  },
  {
   "cell_type": "markdown",
   "id": "3de3c4c0",
   "metadata": {},
   "source": [
    "## String Formatting"
   ]
  },
  {
   "cell_type": "code",
   "execution_count": 9,
   "id": "29543d5b",
   "metadata": {},
   "outputs": [
    {
     "name": "stdout",
     "output_type": "stream",
     "text": [
      "Hello\n"
     ]
    }
   ],
   "source": [
    "print(\"Hello\")"
   ]
  },
  {
   "cell_type": "code",
   "execution_count": 10,
   "id": "f0588f4e",
   "metadata": {},
   "outputs": [],
   "source": [
    "def format_sp(name):\n",
    "    print(\"My name is {}\".format(name))\n",
    "    #return \"My name is {}\".format(name)"
   ]
  },
  {
   "cell_type": "code",
   "execution_count": 11,
   "id": "ec236f70",
   "metadata": {},
   "outputs": [
    {
     "name": "stdout",
     "output_type": "stream",
     "text": [
      "My name is Rio\n"
     ]
    }
   ],
   "source": [
    "format_sp(\"Rio\")"
   ]
  },
  {
   "cell_type": "code",
   "execution_count": 12,
   "id": "39d805f0",
   "metadata": {},
   "outputs": [],
   "source": [
    "def for_sp(fn,ln):\n",
    "    return \"My name is {} {}\".format(fn,ln)"
   ]
  },
  {
   "cell_type": "code",
   "execution_count": 13,
   "id": "0f1a709b",
   "metadata": {},
   "outputs": [
    {
     "data": {
      "text/plain": [
       "'My name is Manaswini Sahoo'"
      ]
     },
     "execution_count": 13,
     "metadata": {},
     "output_type": "execute_result"
    }
   ],
   "source": [
    "for_sp(\"Manaswini\",\"Sahoo\")"
   ]
  },
  {
   "cell_type": "markdown",
   "id": "f33176a9",
   "metadata": {},
   "source": [
    "## Iterables And Iterators"
   ]
  },
  {
   "cell_type": "markdown",
   "id": "6e96449f",
   "metadata": {},
   "source": [
    "List is iterable."
   ]
  },
  {
   "cell_type": "code",
   "execution_count": 14,
   "id": "a36c5a95",
   "metadata": {},
   "outputs": [
    {
     "name": "stdout",
     "output_type": "stream",
     "text": [
      "1\n",
      "2\n",
      "3\n",
      "4\n",
      "5\n"
     ]
    }
   ],
   "source": [
    "ls=[1,2,3,4,5]\n",
    "\n",
    "for i in ls:\n",
    "    print(i)"
   ]
  },
  {
   "cell_type": "markdown",
   "id": "c28fdd1f",
   "metadata": {},
   "source": [
    "iter() will convert the list into an iterator."
   ]
  },
  {
   "cell_type": "code",
   "execution_count": 15,
   "id": "5f2713c7",
   "metadata": {},
   "outputs": [],
   "source": [
    "l1=[44,67,21,89,96]"
   ]
  },
  {
   "cell_type": "code",
   "execution_count": 16,
   "id": "25550e9d",
   "metadata": {},
   "outputs": [],
   "source": [
    "l2=iter(l1)"
   ]
  },
  {
   "cell_type": "code",
   "execution_count": 17,
   "id": "229af8b2",
   "metadata": {},
   "outputs": [
    {
     "data": {
      "text/plain": [
       "<list_iterator at 0x19917ce5250>"
      ]
     },
     "execution_count": 17,
     "metadata": {},
     "output_type": "execute_result"
    }
   ],
   "source": [
    "l2"
   ]
  },
  {
   "cell_type": "code",
   "execution_count": 18,
   "id": "9182b5c6",
   "metadata": {},
   "outputs": [
    {
     "data": {
      "text/plain": [
       "44"
      ]
     },
     "execution_count": 18,
     "metadata": {},
     "output_type": "execute_result"
    }
   ],
   "source": [
    "next(l2)"
   ]
  },
  {
   "cell_type": "code",
   "execution_count": 19,
   "id": "960ea81a",
   "metadata": {},
   "outputs": [
    {
     "name": "stdout",
     "output_type": "stream",
     "text": [
      "67\n",
      "21\n",
      "89\n",
      "96\n"
     ]
    }
   ],
   "source": [
    "for i in l2:\n",
    "    print(i)"
   ]
  },
  {
   "cell_type": "code",
   "execution_count": null,
   "id": "b27f08b0",
   "metadata": {},
   "outputs": [],
   "source": []
  }
 ],
 "metadata": {
  "kernelspec": {
   "display_name": "Python 3 (ipykernel)",
   "language": "python",
   "name": "python3"
  },
  "language_info": {
   "codemirror_mode": {
    "name": "ipython",
    "version": 3
   },
   "file_extension": ".py",
   "mimetype": "text/x-python",
   "name": "python",
   "nbconvert_exporter": "python",
   "pygments_lexer": "ipython3",
   "version": "3.9.7"
  }
 },
 "nbformat": 4,
 "nbformat_minor": 5
}
