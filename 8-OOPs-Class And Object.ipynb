{
 "cells": [
  {
   "cell_type": "markdown",
   "id": "1f987592",
   "metadata": {},
   "source": [
    "## Class And Object "
   ]
  },
  {
   "cell_type": "markdown",
   "id": "687e753d",
   "metadata": {},
   "source": [
    "##### Class :"
   ]
  },
  {
   "cell_type": "markdown",
   "id": "e3526f4a",
   "metadata": {},
   "source": [
    "Class is an user defined datatype which has it's own data members and member functions."
   ]
  },
  {
   "cell_type": "markdown",
   "id": "7108815a",
   "metadata": {},
   "source": [
    "Class is the blueprint of an object."
   ]
  },
  {
   "cell_type": "markdown",
   "id": "9b8e12f1",
   "metadata": {},
   "source": [
    "##### Object :"
   ]
  },
  {
   "cell_type": "markdown",
   "id": "8dd4372e",
   "metadata": {},
   "source": [
    "Object is an entity which has it's own state and behaviour."
   ]
  },
  {
   "cell_type": "markdown",
   "id": "3ba176ee",
   "metadata": {},
   "source": [
    "Object is the instance of the class."
   ]
  },
  {
   "cell_type": "markdown",
   "id": "eaf3624c",
   "metadata": {},
   "source": [
    "class and object -->"
   ]
  },
  {
   "cell_type": "code",
   "execution_count": 1,
   "id": "6efc1ff4",
   "metadata": {},
   "outputs": [],
   "source": [
    "class car:\n",
    "    pass"
   ]
  },
  {
   "cell_type": "code",
   "execution_count": 2,
   "id": "4b1e783e",
   "metadata": {},
   "outputs": [],
   "source": [
    "c1=car()"
   ]
  },
  {
   "cell_type": "code",
   "execution_count": 3,
   "id": "4e033f1d",
   "metadata": {},
   "outputs": [
    {
     "data": {
      "text/plain": [
       "<__main__.car at 0x1ef2558d460>"
      ]
     },
     "execution_count": 3,
     "metadata": {},
     "output_type": "execute_result"
    }
   ],
   "source": [
    "c1"
   ]
  },
  {
   "cell_type": "markdown",
   "id": "21801e0b",
   "metadata": {},
   "source": [
    "##### Creating a class car with features and creating object and displaying the features :"
   ]
  },
  {
   "cell_type": "code",
   "execution_count": 4,
   "id": "3572e93e",
   "metadata": {},
   "outputs": [],
   "source": [
    "class car:\n",
    "    def __init__(self,window,door,enginetype):\n",
    "        self.window=window\n",
    "        self.door=door\n",
    "        self.enginetype=enginetype\n",
    "        "
   ]
  },
  {
   "cell_type": "code",
   "execution_count": 9,
   "id": "ee9fbabd",
   "metadata": {},
   "outputs": [],
   "source": [
    "c1=car(4,4,\"Petrol\")"
   ]
  },
  {
   "cell_type": "code",
   "execution_count": 10,
   "id": "fce2688c",
   "metadata": {},
   "outputs": [
    {
     "name": "stdout",
     "output_type": "stream",
     "text": [
      "4\n"
     ]
    }
   ],
   "source": [
    "print(c1.window)"
   ]
  },
  {
   "cell_type": "code",
   "execution_count": 11,
   "id": "996cc179",
   "metadata": {},
   "outputs": [
    {
     "name": "stdout",
     "output_type": "stream",
     "text": [
      "4\n"
     ]
    }
   ],
   "source": [
    "print(c1.door)"
   ]
  },
  {
   "cell_type": "code",
   "execution_count": 12,
   "id": "123ec93e",
   "metadata": {},
   "outputs": [
    {
     "name": "stdout",
     "output_type": "stream",
     "text": [
      "Petrol\n"
     ]
    }
   ],
   "source": [
    "print(c1.enginetype)"
   ]
  },
  {
   "cell_type": "markdown",
   "id": "95fe26d6",
   "metadata": {},
   "source": [
    "##### Adding as many functions into the class :"
   ]
  },
  {
   "cell_type": "code",
   "execution_count": 13,
   "id": "329261ad",
   "metadata": {},
   "outputs": [],
   "source": [
    "class c:\n",
    "    def __init__(self,type,window):\n",
    "        self.type=type\n",
    "        self.window=window\n",
    "    def drive(self):\n",
    "        return \"The car name is {}\".format(self.type)"
   ]
  },
  {
   "cell_type": "code",
   "execution_count": 14,
   "id": "f5adfe11",
   "metadata": {},
   "outputs": [],
   "source": [
    "cc=c(\"Audi\",4)"
   ]
  },
  {
   "cell_type": "code",
   "execution_count": 15,
   "id": "7e480aeb",
   "metadata": {},
   "outputs": [
    {
     "data": {
      "text/plain": [
       "'The car name is Audi'"
      ]
     },
     "execution_count": 15,
     "metadata": {},
     "output_type": "execute_result"
    }
   ],
   "source": [
    "cc.drive()"
   ]
  },
  {
   "cell_type": "code",
   "execution_count": null,
   "id": "a182a592",
   "metadata": {},
   "outputs": [],
   "source": []
  },
  {
   "cell_type": "code",
   "execution_count": null,
   "id": "d969b592",
   "metadata": {},
   "outputs": [],
   "source": []
  }
 ],
 "metadata": {
  "kernelspec": {
   "display_name": "Python 3 (ipykernel)",
   "language": "python",
   "name": "python3"
  },
  "language_info": {
   "codemirror_mode": {
    "name": "ipython",
    "version": 3
   },
   "file_extension": ".py",
   "mimetype": "text/x-python",
   "name": "python",
   "nbconvert_exporter": "python",
   "pygments_lexer": "ipython3",
   "version": "3.9.7"
  }
 },
 "nbformat": 4,
 "nbformat_minor": 5
}
