{
 "cells": [
  {
   "cell_type": "markdown",
   "id": "c7a4261f",
   "metadata": {},
   "source": [
    "## Python Data Structures And Boolean"
   ]
  },
  {
   "cell_type": "markdown",
   "id": "290957a4",
   "metadata": {},
   "source": [
    "### Boolean Variables"
   ]
  },
  {
   "cell_type": "markdown",
   "id": "923165c4",
   "metadata": {},
   "source": [
    "Boolean values are the two constant objects False and True.\n",
    "\n",
    "They are used to represent truth values(false or true).\n",
    "\n",
    "In numeric contexts(for example, when used as the argument to an arithmetic operator), they behave like the integers 0 and 1, respectively.\n",
    "\n",
    "The built-in function bool() can be used to cast any value to a Boolean, if the value can be interpreted as a truth value.They are written as False and True, respectively."
   ]
  },
  {
   "cell_type": "code",
   "execution_count": 1,
   "id": "c23b1804",
   "metadata": {},
   "outputs": [
    {
     "data": {
      "text/plain": [
       "False"
      ]
     },
     "execution_count": 1,
     "metadata": {},
     "output_type": "execute_result"
    }
   ],
   "source": [
    "bool()"
   ]
  },
  {
   "cell_type": "code",
   "execution_count": 2,
   "id": "03a1c3c5",
   "metadata": {},
   "outputs": [
    {
     "data": {
      "text/plain": [
       "bool"
      ]
     },
     "execution_count": 2,
     "metadata": {},
     "output_type": "execute_result"
    }
   ],
   "source": [
    "type(True)"
   ]
  },
  {
   "cell_type": "code",
   "execution_count": 3,
   "id": "ce214472",
   "metadata": {},
   "outputs": [
    {
     "data": {
      "text/plain": [
       "bool"
      ]
     },
     "execution_count": 3,
     "metadata": {},
     "output_type": "execute_result"
    }
   ],
   "source": [
    "type(False)"
   ]
  },
  {
   "cell_type": "code",
   "execution_count": 4,
   "id": "ab646d17",
   "metadata": {},
   "outputs": [],
   "source": [
    "my_str=\"Roshni\""
   ]
  },
  {
   "cell_type": "code",
   "execution_count": 5,
   "id": "c7286740",
   "metadata": {},
   "outputs": [
    {
     "name": "stdout",
     "output_type": "stream",
     "text": [
      "True\n"
     ]
    }
   ],
   "source": [
    "print(my_str.isalnum()) #check if all char are numbers"
   ]
  },
  {
   "cell_type": "code",
   "execution_count": 6,
   "id": "7cea1c28",
   "metadata": {},
   "outputs": [
    {
     "name": "stdout",
     "output_type": "stream",
     "text": [
      "True\n"
     ]
    }
   ],
   "source": [
    "print(my_str.isalpha()) #check if all char in the string are alphabetic"
   ]
  },
  {
   "cell_type": "code",
   "execution_count": 7,
   "id": "07cd46ce",
   "metadata": {},
   "outputs": [
    {
     "name": "stdout",
     "output_type": "stream",
     "text": [
      "False\n"
     ]
    }
   ],
   "source": [
    "print(my_str.isdigit()) #test if string contains digits"
   ]
  },
  {
   "cell_type": "code",
   "execution_count": 8,
   "id": "20f292ce",
   "metadata": {},
   "outputs": [
    {
     "name": "stdout",
     "output_type": "stream",
     "text": [
      "True\n"
     ]
    }
   ],
   "source": [
    "print(my_str.istitle()) #test if string contains title words"
   ]
  },
  {
   "cell_type": "code",
   "execution_count": 9,
   "id": "67bd9794",
   "metadata": {},
   "outputs": [
    {
     "name": "stdout",
     "output_type": "stream",
     "text": [
      "False\n"
     ]
    }
   ],
   "source": [
    "print(my_str.isupper()) #test if string contains upper case"
   ]
  },
  {
   "cell_type": "code",
   "execution_count": 10,
   "id": "e1717487",
   "metadata": {},
   "outputs": [
    {
     "name": "stdout",
     "output_type": "stream",
     "text": [
      "False\n"
     ]
    }
   ],
   "source": [
    "print(my_str.islower()) #test if string contains lower case"
   ]
  },
  {
   "cell_type": "code",
   "execution_count": 11,
   "id": "dd7b6e1d",
   "metadata": {},
   "outputs": [
    {
     "name": "stdout",
     "output_type": "stream",
     "text": [
      "False\n"
     ]
    }
   ],
   "source": [
    "print(my_str.isspace()) #test if string contains spaces"
   ]
  },
  {
   "cell_type": "code",
   "execution_count": 12,
   "id": "33c59998",
   "metadata": {},
   "outputs": [
    {
     "name": "stdout",
     "output_type": "stream",
     "text": [
      "True\n"
     ]
    }
   ],
   "source": [
    "print(my_str.endswith('i')) #test if string endswith a i"
   ]
  },
  {
   "cell_type": "code",
   "execution_count": 13,
   "id": "9ac48896",
   "metadata": {},
   "outputs": [
    {
     "name": "stdout",
     "output_type": "stream",
     "text": [
      "True\n"
     ]
    }
   ],
   "source": [
    "print(my_str.startswith('R')) #test if string startswith R"
   ]
  },
  {
   "cell_type": "markdown",
   "id": "69b02bd9",
   "metadata": {},
   "source": [
    "### Boolean And Logical Operator"
   ]
  },
  {
   "cell_type": "code",
   "execution_count": 14,
   "id": "200a6c64",
   "metadata": {},
   "outputs": [
    {
     "data": {
      "text/plain": [
       "False"
      ]
     },
     "execution_count": 14,
     "metadata": {},
     "output_type": "execute_result"
    }
   ],
   "source": [
    "True and False"
   ]
  },
  {
   "cell_type": "code",
   "execution_count": 15,
   "id": "193b2e48",
   "metadata": {},
   "outputs": [
    {
     "data": {
      "text/plain": [
       "True"
      ]
     },
     "execution_count": 15,
     "metadata": {},
     "output_type": "execute_result"
    }
   ],
   "source": [
    "True and True"
   ]
  },
  {
   "cell_type": "code",
   "execution_count": 16,
   "id": "337b6f33",
   "metadata": {},
   "outputs": [
    {
     "data": {
      "text/plain": [
       "True"
      ]
     },
     "execution_count": 16,
     "metadata": {},
     "output_type": "execute_result"
    }
   ],
   "source": [
    "True or False"
   ]
  },
  {
   "cell_type": "code",
   "execution_count": 17,
   "id": "42a83e7b",
   "metadata": {},
   "outputs": [],
   "source": [
    "str1=\"abcd\"\n",
    "str2=\"mnop\""
   ]
  },
  {
   "cell_type": "code",
   "execution_count": 18,
   "id": "5a0feb69",
   "metadata": {},
   "outputs": [
    {
     "data": {
      "text/plain": [
       "True"
      ]
     },
     "execution_count": 18,
     "metadata": {},
     "output_type": "execute_result"
    }
   ],
   "source": [
    "str1.isalpha() or str2.isalnum()"
   ]
  },
  {
   "cell_type": "markdown",
   "id": "a048ae0c",
   "metadata": {},
   "source": [
    "### List"
   ]
  },
  {
   "cell_type": "markdown",
   "id": "3eee980c",
   "metadata": {},
   "source": [
    "A list is a data structure in Python that is a mutable,ordered and allow duplicates. \n",
    "\n",
    "Lists are defined by having values between square brackets [].\n",
    "\n",
    "It can hold elements of any data type."
   ]
  },
  {
   "cell_type": "code",
   "execution_count": 19,
   "id": "718ea8cb",
   "metadata": {},
   "outputs": [
    {
     "data": {
      "text/plain": [
       "list"
      ]
     },
     "execution_count": 19,
     "metadata": {},
     "output_type": "execute_result"
    }
   ],
   "source": [
    "type([])"
   ]
  },
  {
   "cell_type": "code",
   "execution_count": 20,
   "id": "ca0fe2b5",
   "metadata": {},
   "outputs": [],
   "source": [
    "l=[\"abc\",200,\"pqr\",789]"
   ]
  },
  {
   "cell_type": "code",
   "execution_count": 21,
   "id": "7ac75705",
   "metadata": {},
   "outputs": [
    {
     "data": {
      "text/plain": [
       "list"
      ]
     },
     "execution_count": 21,
     "metadata": {},
     "output_type": "execute_result"
    }
   ],
   "source": [
    "type(l)"
   ]
  },
  {
   "cell_type": "code",
   "execution_count": 22,
   "id": "f2ad84b0",
   "metadata": {},
   "outputs": [
    {
     "data": {
      "text/plain": [
       "4"
      ]
     },
     "execution_count": 22,
     "metadata": {},
     "output_type": "execute_result"
    }
   ],
   "source": [
    "len(l)"
   ]
  },
  {
   "cell_type": "markdown",
   "id": "4703ed13",
   "metadata": {},
   "source": [
    "##### append :"
   ]
  },
  {
   "cell_type": "code",
   "execution_count": 23,
   "id": "0293bdc2",
   "metadata": {},
   "outputs": [],
   "source": [
    "l.append(\"stv\")"
   ]
  },
  {
   "cell_type": "code",
   "execution_count": 24,
   "id": "2de56083",
   "metadata": {},
   "outputs": [
    {
     "data": {
      "text/plain": [
       "['abc', 200, 'pqr', 789, 'stv']"
      ]
     },
     "execution_count": 24,
     "metadata": {},
     "output_type": "execute_result"
    }
   ],
   "source": [
    "l"
   ]
  },
  {
   "cell_type": "code",
   "execution_count": 25,
   "id": "7db0dd2e",
   "metadata": {},
   "outputs": [],
   "source": [
    "l.append([345,\"xyz\"])"
   ]
  },
  {
   "cell_type": "code",
   "execution_count": 26,
   "id": "f5ebf06b",
   "metadata": {},
   "outputs": [
    {
     "data": {
      "text/plain": [
       "['abc', 200, 'pqr', 789, 'stv', [345, 'xyz']]"
      ]
     },
     "execution_count": 26,
     "metadata": {},
     "output_type": "execute_result"
    }
   ],
   "source": [
    "l"
   ]
  },
  {
   "cell_type": "code",
   "execution_count": 27,
   "id": "35545812",
   "metadata": {},
   "outputs": [
    {
     "data": {
      "text/plain": [
       "[200, 'pqr', 789]"
      ]
     },
     "execution_count": 27,
     "metadata": {},
     "output_type": "execute_result"
    }
   ],
   "source": [
    "l[1:4]"
   ]
  },
  {
   "cell_type": "code",
   "execution_count": 28,
   "id": "ca9868a8",
   "metadata": {},
   "outputs": [
    {
     "data": {
      "text/plain": [
       "[345, 'xyz']"
      ]
     },
     "execution_count": 28,
     "metadata": {},
     "output_type": "execute_result"
    }
   ],
   "source": [
    "l[-1]"
   ]
  },
  {
   "cell_type": "markdown",
   "id": "863c76a9",
   "metadata": {},
   "source": [
    "##### Insert :"
   ]
  },
  {
   "cell_type": "code",
   "execution_count": 29,
   "id": "1a05b854",
   "metadata": {},
   "outputs": [],
   "source": [
    "l.insert(3,\"mno\")   #inserting at specific position"
   ]
  },
  {
   "cell_type": "code",
   "execution_count": 30,
   "id": "4b97e356",
   "metadata": {},
   "outputs": [
    {
     "data": {
      "text/plain": [
       "['abc', 200, 'pqr', 'mno', 789, 'stv', [345, 'xyz']]"
      ]
     },
     "execution_count": 30,
     "metadata": {},
     "output_type": "execute_result"
    }
   ],
   "source": [
    "l"
   ]
  },
  {
   "cell_type": "markdown",
   "id": "736ff9b6",
   "metadata": {},
   "source": [
    "##### Extend :"
   ]
  },
  {
   "cell_type": "code",
   "execution_count": 31,
   "id": "32ef13db",
   "metadata": {},
   "outputs": [],
   "source": [
    "lst = [4,5,8,9]"
   ]
  },
  {
   "cell_type": "code",
   "execution_count": 32,
   "id": "29c9560b",
   "metadata": {},
   "outputs": [],
   "source": [
    "lst.extend([2,1])"
   ]
  },
  {
   "cell_type": "code",
   "execution_count": 33,
   "id": "d98899d2",
   "metadata": {},
   "outputs": [
    {
     "data": {
      "text/plain": [
       "[4, 5, 8, 9, 2, 1]"
      ]
     },
     "execution_count": 33,
     "metadata": {},
     "output_type": "execute_result"
    }
   ],
   "source": [
    "lst"
   ]
  },
  {
   "cell_type": "markdown",
   "id": "741440c4",
   "metadata": {},
   "source": [
    "##### Pop :"
   ]
  },
  {
   "cell_type": "code",
   "execution_count": 34,
   "id": "e46972c5",
   "metadata": {},
   "outputs": [
    {
     "data": {
      "text/plain": [
       "9"
      ]
     },
     "execution_count": 34,
     "metadata": {},
     "output_type": "execute_result"
    }
   ],
   "source": [
    "lst.pop(3)"
   ]
  },
  {
   "cell_type": "code",
   "execution_count": 35,
   "id": "5469961c",
   "metadata": {},
   "outputs": [
    {
     "data": {
      "text/plain": [
       "[4, 5, 8, 2, 1]"
      ]
     },
     "execution_count": 35,
     "metadata": {},
     "output_type": "execute_result"
    }
   ],
   "source": [
    "lst"
   ]
  },
  {
   "cell_type": "markdown",
   "id": "91a21d38",
   "metadata": {},
   "source": [
    "##### Other operations on list :"
   ]
  },
  {
   "cell_type": "code",
   "execution_count": 36,
   "id": "b8576c2e",
   "metadata": {},
   "outputs": [
    {
     "data": {
      "text/plain": [
       "20"
      ]
     },
     "execution_count": 36,
     "metadata": {},
     "output_type": "execute_result"
    }
   ],
   "source": [
    "sum(lst)"
   ]
  },
  {
   "cell_type": "code",
   "execution_count": 37,
   "id": "b521497b",
   "metadata": {},
   "outputs": [
    {
     "data": {
      "text/plain": [
       "[4, 5, 8, 2, 1, 4, 5, 8, 2, 1, 4, 5, 8, 2, 1, 4, 5, 8, 2, 1]"
      ]
     },
     "execution_count": 37,
     "metadata": {},
     "output_type": "execute_result"
    }
   ],
   "source": [
    "lst*4"
   ]
  },
  {
   "cell_type": "code",
   "execution_count": 38,
   "id": "d04a29dc",
   "metadata": {},
   "outputs": [
    {
     "data": {
      "text/plain": [
       "3"
      ]
     },
     "execution_count": 38,
     "metadata": {},
     "output_type": "execute_result"
    }
   ],
   "source": [
    "a=[5,6,2,1,6,4,9,9,6]\n",
    "a.count(6) #to count the occurance of the item in the list"
   ]
  },
  {
   "cell_type": "code",
   "execution_count": 39,
   "id": "a5aec336",
   "metadata": {},
   "outputs": [
    {
     "data": {
      "text/plain": [
       "9"
      ]
     },
     "execution_count": 39,
     "metadata": {},
     "output_type": "execute_result"
    }
   ],
   "source": [
    "len(a) #to get the length of the list"
   ]
  },
  {
   "cell_type": "code",
   "execution_count": 40,
   "id": "8e9081fc",
   "metadata": {},
   "outputs": [
    {
     "data": {
      "text/plain": [
       "5"
      ]
     },
     "execution_count": 40,
     "metadata": {},
     "output_type": "execute_result"
    }
   ],
   "source": [
    "a.index(4) #to get the index of the item"
   ]
  },
  {
   "cell_type": "code",
   "execution_count": 41,
   "id": "a1df9c18",
   "metadata": {},
   "outputs": [
    {
     "data": {
      "text/plain": [
       "9"
      ]
     },
     "execution_count": 41,
     "metadata": {},
     "output_type": "execute_result"
    }
   ],
   "source": [
    "max(a)"
   ]
  },
  {
   "cell_type": "code",
   "execution_count": 42,
   "id": "4adbd38f",
   "metadata": {},
   "outputs": [
    {
     "data": {
      "text/plain": [
       "1"
      ]
     },
     "execution_count": 42,
     "metadata": {},
     "output_type": "execute_result"
    }
   ],
   "source": [
    "min(a)"
   ]
  },
  {
   "cell_type": "markdown",
   "id": "ca8d78c2",
   "metadata": {},
   "source": [
    "### Sets"
   ]
  },
  {
   "cell_type": "markdown",
   "id": "922df92d",
   "metadata": {},
   "source": [
    "A Set is an unordered collection data type, mutable, and has no duplicate elements.\n",
    "\n",
    "The elements are represented by {}."
   ]
  },
  {
   "cell_type": "code",
   "execution_count": 43,
   "id": "4728e097",
   "metadata": {},
   "outputs": [],
   "source": [
    "s= {1,2,6,7,3,9}"
   ]
  },
  {
   "cell_type": "code",
   "execution_count": 44,
   "id": "d9c55b72",
   "metadata": {},
   "outputs": [
    {
     "data": {
      "text/plain": [
       "set"
      ]
     },
     "execution_count": 44,
     "metadata": {},
     "output_type": "execute_result"
    }
   ],
   "source": [
    "type(s)"
   ]
  },
  {
   "cell_type": "code",
   "execution_count": 45,
   "id": "88d74d91",
   "metadata": {},
   "outputs": [
    {
     "data": {
      "text/plain": [
       "{1, 2, 3, 6, 7, 9}"
      ]
     },
     "execution_count": 45,
     "metadata": {},
     "output_type": "execute_result"
    }
   ],
   "source": [
    "s"
   ]
  },
  {
   "cell_type": "code",
   "execution_count": 46,
   "id": "c2a1fdc0",
   "metadata": {},
   "outputs": [],
   "source": [
    "st= {\"gh\",\"abc\"}"
   ]
  },
  {
   "cell_type": "code",
   "execution_count": 47,
   "id": "42ae9cf5",
   "metadata": {},
   "outputs": [
    {
     "data": {
      "text/plain": [
       "{'abc', 'gh'}"
      ]
     },
     "execution_count": 47,
     "metadata": {},
     "output_type": "execute_result"
    }
   ],
   "source": [
    "st"
   ]
  },
  {
   "cell_type": "code",
   "execution_count": 48,
   "id": "f9262ac9",
   "metadata": {},
   "outputs": [
    {
     "data": {
      "text/plain": [
       "set"
      ]
     },
     "execution_count": 48,
     "metadata": {},
     "output_type": "execute_result"
    }
   ],
   "source": [
    "type(st)"
   ]
  },
  {
   "cell_type": "code",
   "execution_count": 49,
   "id": "7fe90189",
   "metadata": {},
   "outputs": [],
   "source": [
    "st.add(\"mnop\")"
   ]
  },
  {
   "cell_type": "code",
   "execution_count": 50,
   "id": "f08ba7dd",
   "metadata": {},
   "outputs": [
    {
     "data": {
      "text/plain": [
       "{'abc', 'gh', 'mnop'}"
      ]
     },
     "execution_count": 50,
     "metadata": {},
     "output_type": "execute_result"
    }
   ],
   "source": [
    "st"
   ]
  },
  {
   "cell_type": "code",
   "execution_count": 51,
   "id": "078150e5",
   "metadata": {},
   "outputs": [],
   "source": [
    "st1= {'gh','qrs','mnop','stuv'}"
   ]
  },
  {
   "cell_type": "code",
   "execution_count": 52,
   "id": "0563839e",
   "metadata": {},
   "outputs": [],
   "source": [
    "st1.intersection_update(st)"
   ]
  },
  {
   "cell_type": "code",
   "execution_count": 53,
   "id": "0293fdaa",
   "metadata": {},
   "outputs": [
    {
     "data": {
      "text/plain": [
       "{'gh', 'mnop'}"
      ]
     },
     "execution_count": 53,
     "metadata": {},
     "output_type": "execute_result"
    }
   ],
   "source": [
    "st1"
   ]
  },
  {
   "cell_type": "code",
   "execution_count": 54,
   "id": "0dca5ae2",
   "metadata": {},
   "outputs": [],
   "source": [
    "st1.difference_update(st)"
   ]
  },
  {
   "cell_type": "code",
   "execution_count": 55,
   "id": "bc4bb10d",
   "metadata": {},
   "outputs": [
    {
     "name": "stdout",
     "output_type": "stream",
     "text": [
      "{'mnop', 'abc', 'gh'}\n"
     ]
    }
   ],
   "source": [
    "print(st)"
   ]
  },
  {
   "cell_type": "markdown",
   "id": "8902c155",
   "metadata": {},
   "source": [
    "### Dictionaries"
   ]
  },
  {
   "cell_type": "markdown",
   "id": "133a9708",
   "metadata": {},
   "source": [
    "A dictionary is a collection which is unordered, changeable and indexed. \n",
    "\n",
    "Dictionaries are written with curly brackets {}.\n",
    "\n",
    "They have keys and values."
   ]
  },
  {
   "cell_type": "code",
   "execution_count": 56,
   "id": "3d14f81a",
   "metadata": {},
   "outputs": [],
   "source": [
    "d = {}"
   ]
  },
  {
   "cell_type": "code",
   "execution_count": 57,
   "id": "21b0972d",
   "metadata": {},
   "outputs": [
    {
     "data": {
      "text/plain": [
       "dict"
      ]
     },
     "execution_count": 57,
     "metadata": {},
     "output_type": "execute_result"
    }
   ],
   "source": [
    "type(d)"
   ]
  },
  {
   "cell_type": "code",
   "execution_count": 58,
   "id": "72bd5054",
   "metadata": {},
   "outputs": [],
   "source": [
    "d1= {\"c1\":\"mercedes\", \"c2\":\"audi\", \"c3\":\"bmw\"}"
   ]
  },
  {
   "cell_type": "code",
   "execution_count": 59,
   "id": "bf41f8ac",
   "metadata": {},
   "outputs": [
    {
     "data": {
      "text/plain": [
       "{'c1': 'mercedes', 'c2': 'audi', 'c3': 'bmw'}"
      ]
     },
     "execution_count": 59,
     "metadata": {},
     "output_type": "execute_result"
    }
   ],
   "source": [
    "d1"
   ]
  },
  {
   "cell_type": "code",
   "execution_count": 61,
   "id": "c4902953",
   "metadata": {},
   "outputs": [
    {
     "data": {
      "text/plain": [
       "dict"
      ]
     },
     "execution_count": 61,
     "metadata": {},
     "output_type": "execute_result"
    }
   ],
   "source": [
    "type(d1)"
   ]
  },
  {
   "cell_type": "code",
   "execution_count": 62,
   "id": "33f0f81f",
   "metadata": {},
   "outputs": [
    {
     "data": {
      "text/plain": [
       "'mercedes'"
      ]
     },
     "execution_count": 62,
     "metadata": {},
     "output_type": "execute_result"
    }
   ],
   "source": [
    "d1[\"c1\"]"
   ]
  },
  {
   "cell_type": "code",
   "execution_count": 63,
   "id": "3eb4f536",
   "metadata": {},
   "outputs": [
    {
     "name": "stdout",
     "output_type": "stream",
     "text": [
      "c1\n",
      "c2\n",
      "c3\n"
     ]
    }
   ],
   "source": [
    "for i in d1:\n",
    "    print(i)"
   ]
  },
  {
   "cell_type": "code",
   "execution_count": 64,
   "id": "4fdf3714",
   "metadata": {},
   "outputs": [
    {
     "name": "stdout",
     "output_type": "stream",
     "text": [
      "mercedes\n",
      "audi\n",
      "bmw\n"
     ]
    }
   ],
   "source": [
    "for i in d1.values():\n",
    "    print(i)"
   ]
  },
  {
   "cell_type": "code",
   "execution_count": 65,
   "id": "48ccd4bf",
   "metadata": {},
   "outputs": [
    {
     "name": "stdout",
     "output_type": "stream",
     "text": [
      "('c1', 'mercedes')\n",
      "('c2', 'audi')\n",
      "('c3', 'bmw')\n"
     ]
    }
   ],
   "source": [
    "for i in d1.items():\n",
    "    print(i)"
   ]
  },
  {
   "cell_type": "code",
   "execution_count": 66,
   "id": "608001e5",
   "metadata": {},
   "outputs": [],
   "source": [
    "d1['c4']=\"lamborgini\""
   ]
  },
  {
   "cell_type": "code",
   "execution_count": 67,
   "id": "5aadb6c2",
   "metadata": {},
   "outputs": [
    {
     "data": {
      "text/plain": [
       "{'c1': 'mercedes', 'c2': 'audi', 'c3': 'bmw', 'c4': 'lamborgini'}"
      ]
     },
     "execution_count": 67,
     "metadata": {},
     "output_type": "execute_result"
    }
   ],
   "source": [
    "d1"
   ]
  },
  {
   "cell_type": "markdown",
   "id": "59604179",
   "metadata": {},
   "source": [
    "##### Nested Dictionary"
   ]
  },
  {
   "cell_type": "code",
   "execution_count": 68,
   "id": "676892f8",
   "metadata": {},
   "outputs": [],
   "source": [
    "car1={'Mercedes':1960}\n",
    "car2={'Audi':1970}\n",
    "car3={'Ambassador':1980}\n",
    "\n",
    "car={'car1':car1,'car2':car2,'car3':car3}"
   ]
  },
  {
   "cell_type": "code",
   "execution_count": 69,
   "id": "4fa9fab6",
   "metadata": {},
   "outputs": [
    {
     "data": {
      "text/plain": [
       "{'car1': {'Mercedes': 1960},\n",
       " 'car2': {'Audi': 1970},\n",
       " 'car3': {'Ambassador': 1980}}"
      ]
     },
     "execution_count": 69,
     "metadata": {},
     "output_type": "execute_result"
    }
   ],
   "source": [
    "car"
   ]
  },
  {
   "cell_type": "code",
   "execution_count": 72,
   "id": "e7fc6c13",
   "metadata": {},
   "outputs": [
    {
     "data": {
      "text/plain": [
       "{'Mercedes': 1960}"
      ]
     },
     "execution_count": 72,
     "metadata": {},
     "output_type": "execute_result"
    }
   ],
   "source": [
    "car['car1']"
   ]
  },
  {
   "cell_type": "code",
   "execution_count": 73,
   "id": "da12ec10",
   "metadata": {},
   "outputs": [
    {
     "data": {
      "text/plain": [
       "1960"
      ]
     },
     "execution_count": 73,
     "metadata": {},
     "output_type": "execute_result"
    }
   ],
   "source": [
    "car['car1']['Mercedes']"
   ]
  },
  {
   "cell_type": "markdown",
   "id": "bd09901b",
   "metadata": {},
   "source": [
    "### Tuples"
   ]
  },
  {
   "cell_type": "markdown",
   "id": "ec31cafb",
   "metadata": {},
   "source": [
    "These are immutable, ordered and allow duplicates.\n",
    "\n",
    "The elements are represented by ()."
   ]
  },
  {
   "cell_type": "code",
   "execution_count": 75,
   "id": "ec1d1d5f",
   "metadata": {},
   "outputs": [],
   "source": [
    "tp= (10,23,44,67,89)"
   ]
  },
  {
   "cell_type": "code",
   "execution_count": 76,
   "id": "0a935ead",
   "metadata": {},
   "outputs": [
    {
     "data": {
      "text/plain": [
       "tuple"
      ]
     },
     "execution_count": 76,
     "metadata": {},
     "output_type": "execute_result"
    }
   ],
   "source": [
    "type(tp)"
   ]
  },
  {
   "cell_type": "code",
   "execution_count": 77,
   "id": "edd2103f",
   "metadata": {},
   "outputs": [],
   "source": [
    "t=(7,4,3,8,7,4,4,1)"
   ]
  },
  {
   "cell_type": "markdown",
   "id": "fb258748",
   "metadata": {},
   "source": [
    " Inbuilt Functions : \n",
    "    \n",
    "    i- count()\n",
    "    \n",
    "    ii- index()"
   ]
  },
  {
   "cell_type": "code",
   "execution_count": 78,
   "id": "14b3ac52",
   "metadata": {},
   "outputs": [
    {
     "data": {
      "text/plain": [
       "3"
      ]
     },
     "execution_count": 78,
     "metadata": {},
     "output_type": "execute_result"
    }
   ],
   "source": [
    "t.count(4)"
   ]
  },
  {
   "cell_type": "code",
   "execution_count": 80,
   "id": "cecead6f",
   "metadata": {},
   "outputs": [
    {
     "data": {
      "text/plain": [
       "0"
      ]
     },
     "execution_count": 80,
     "metadata": {},
     "output_type": "execute_result"
    }
   ],
   "source": [
    "t.index(7)"
   ]
  },
  {
   "cell_type": "markdown",
   "id": "4e009aa2",
   "metadata": {},
   "source": [
    "To change the elements in tuple, we need to convert the tuple into list then change the required elements and again converting back to tuple."
   ]
  },
  {
   "cell_type": "code",
   "execution_count": 81,
   "id": "52d87db5",
   "metadata": {},
   "outputs": [
    {
     "data": {
      "text/plain": [
       "(10, 23, 44, 67, 89)"
      ]
     },
     "execution_count": 81,
     "metadata": {},
     "output_type": "execute_result"
    }
   ],
   "source": [
    "tp"
   ]
  },
  {
   "cell_type": "code",
   "execution_count": 83,
   "id": "8207b613",
   "metadata": {},
   "outputs": [],
   "source": [
    "t=list(tp)"
   ]
  },
  {
   "cell_type": "code",
   "execution_count": 84,
   "id": "3fa0450d",
   "metadata": {},
   "outputs": [
    {
     "data": {
      "text/plain": [
       "[10, 23, 44, 67, 89]"
      ]
     },
     "execution_count": 84,
     "metadata": {},
     "output_type": "execute_result"
    }
   ],
   "source": [
    "t"
   ]
  },
  {
   "cell_type": "code",
   "execution_count": 85,
   "id": "931ee8a2",
   "metadata": {},
   "outputs": [],
   "source": [
    "t[0]=35"
   ]
  },
  {
   "cell_type": "code",
   "execution_count": 86,
   "id": "5814243a",
   "metadata": {},
   "outputs": [
    {
     "data": {
      "text/plain": [
       "[35, 23, 44, 67, 89]"
      ]
     },
     "execution_count": 86,
     "metadata": {},
     "output_type": "execute_result"
    }
   ],
   "source": [
    "t"
   ]
  },
  {
   "cell_type": "code",
   "execution_count": 87,
   "id": "42904034",
   "metadata": {},
   "outputs": [],
   "source": [
    "tp=tuple(t)"
   ]
  },
  {
   "cell_type": "code",
   "execution_count": 88,
   "id": "411c81e0",
   "metadata": {},
   "outputs": [
    {
     "data": {
      "text/plain": [
       "(35, 23, 44, 67, 89)"
      ]
     },
     "execution_count": 88,
     "metadata": {},
     "output_type": "execute_result"
    }
   ],
   "source": [
    "tp"
   ]
  },
  {
   "cell_type": "code",
   "execution_count": null,
   "id": "122e8760",
   "metadata": {},
   "outputs": [],
   "source": []
  },
  {
   "cell_type": "code",
   "execution_count": null,
   "id": "83356569",
   "metadata": {},
   "outputs": [],
   "source": []
  }
 ],
 "metadata": {
  "kernelspec": {
   "display_name": "Python 3 (ipykernel)",
   "language": "python",
   "name": "python3"
  },
  "language_info": {
   "codemirror_mode": {
    "name": "ipython",
    "version": 3
   },
   "file_extension": ".py",
   "mimetype": "text/x-python",
   "name": "python",
   "nbconvert_exporter": "python",
   "pygments_lexer": "ipython3",
   "version": "3.9.7"
  }
 },
 "nbformat": 4,
 "nbformat_minor": 5
}
