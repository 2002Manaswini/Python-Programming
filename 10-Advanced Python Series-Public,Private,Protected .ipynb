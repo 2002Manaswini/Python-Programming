{
 "cells": [
  {
   "cell_type": "markdown",
   "id": "e5fa09ae",
   "metadata": {},
   "source": [
    "## Public access modifiers :"
   ]
  },
  {
   "cell_type": "markdown",
   "id": "2af8dc75",
   "metadata": {},
   "source": [
    "##### Here,all the class variables are public."
   ]
  },
  {
   "cell_type": "markdown",
   "id": "8d478ba6",
   "metadata": {},
   "source": [
    "Public variable can be accessed from anywhere."
   ]
  },
  {
   "cell_type": "markdown",
   "id": "5272330a",
   "metadata": {},
   "source": [
    "The members of a class that are declared public are easily accessible from any part of the program."
   ]
  },
  {
   "cell_type": "code",
   "execution_count": 1,
   "id": "619d0b31",
   "metadata": {},
   "outputs": [],
   "source": [
    "class car:\n",
    "    def __init__(self,enginetype,door,window):\n",
    "        self.enginetype=enginetype\n",
    "        self.door=door\n",
    "        self.window=window\n",
    "        "
   ]
  },
  {
   "cell_type": "code",
   "execution_count": 2,
   "id": "03b31939",
   "metadata": {},
   "outputs": [
    {
     "data": {
      "text/plain": [
       "<__main__.car at 0x2cbb738a910>"
      ]
     },
     "execution_count": 2,
     "metadata": {},
     "output_type": "execute_result"
    }
   ],
   "source": [
    "audi=car(\"petrol\",4,5)\n",
    "audi"
   ]
  },
  {
   "cell_type": "code",
   "execution_count": 3,
   "id": "052f98ed",
   "metadata": {},
   "outputs": [
    {
     "data": {
      "text/plain": [
       "'petrol'"
      ]
     },
     "execution_count": 3,
     "metadata": {},
     "output_type": "execute_result"
    }
   ],
   "source": [
    "audi.enginetype"
   ]
  },
  {
   "cell_type": "code",
   "execution_count": 4,
   "id": "6da962de",
   "metadata": {},
   "outputs": [
    {
     "data": {
      "text/plain": [
       "4"
      ]
     },
     "execution_count": 4,
     "metadata": {},
     "output_type": "execute_result"
    }
   ],
   "source": [
    "audi.door"
   ]
  },
  {
   "cell_type": "code",
   "execution_count": 5,
   "id": "c87a4327",
   "metadata": {},
   "outputs": [
    {
     "data": {
      "text/plain": [
       "5"
      ]
     },
     "execution_count": 5,
     "metadata": {},
     "output_type": "execute_result"
    }
   ],
   "source": [
    "audi.window"
   ]
  },
  {
   "cell_type": "code",
   "execution_count": 6,
   "id": "10245e08",
   "metadata": {},
   "outputs": [
    {
     "data": {
      "text/plain": [
       "['__class__',\n",
       " '__delattr__',\n",
       " '__dict__',\n",
       " '__dir__',\n",
       " '__doc__',\n",
       " '__eq__',\n",
       " '__format__',\n",
       " '__ge__',\n",
       " '__getattribute__',\n",
       " '__gt__',\n",
       " '__hash__',\n",
       " '__init__',\n",
       " '__init_subclass__',\n",
       " '__le__',\n",
       " '__lt__',\n",
       " '__module__',\n",
       " '__ne__',\n",
       " '__new__',\n",
       " '__reduce__',\n",
       " '__reduce_ex__',\n",
       " '__repr__',\n",
       " '__setattr__',\n",
       " '__sizeof__',\n",
       " '__str__',\n",
       " '__subclasshook__',\n",
       " '__weakref__',\n",
       " 'door',\n",
       " 'enginetype',\n",
       " 'window']"
      ]
     },
     "execution_count": 6,
     "metadata": {},
     "output_type": "execute_result"
    }
   ],
   "source": [
    "dir(audi)"
   ]
  },
  {
   "cell_type": "markdown",
   "id": "1658dd9f",
   "metadata": {},
   "source": [
    "We can see that the directory of audi contains attributes like- door,enginetype and window.\n",
    "\n",
    "They are public variables."
   ]
  },
  {
   "cell_type": "markdown",
   "id": "26806b79",
   "metadata": {},
   "source": [
    "## Protected access modifiers :"
   ]
  },
  {
   "cell_type": "markdown",
   "id": "9032955d",
   "metadata": {},
   "source": [
    "Protected variables can be accessed from the subclass or child class only."
   ]
  },
  {
   "cell_type": "markdown",
   "id": "93713ad9",
   "metadata": {},
   "source": [
    "The members of a class that are declared protected are only accessible to a class derived from it."
   ]
  },
  {
   "cell_type": "code",
   "execution_count": 7,
   "id": "4217dfb1",
   "metadata": {},
   "outputs": [],
   "source": [
    "class car():\n",
    "    def __init__(self,enginetype,window,door):\n",
    "        self._enginetype=enginetype\n",
    "        self._window=window\n",
    "        self._door=door"
   ]
  },
  {
   "cell_type": "code",
   "execution_count": 8,
   "id": "d7718c08",
   "metadata": {},
   "outputs": [],
   "source": [
    "bmw=car(\"diesel\",5,4)"
   ]
  },
  {
   "cell_type": "code",
   "execution_count": 9,
   "id": "59bffc34",
   "metadata": {},
   "outputs": [
    {
     "data": {
      "text/plain": [
       "['__class__',\n",
       " '__delattr__',\n",
       " '__dict__',\n",
       " '__dir__',\n",
       " '__doc__',\n",
       " '__eq__',\n",
       " '__format__',\n",
       " '__ge__',\n",
       " '__getattribute__',\n",
       " '__gt__',\n",
       " '__hash__',\n",
       " '__init__',\n",
       " '__init_subclass__',\n",
       " '__le__',\n",
       " '__lt__',\n",
       " '__module__',\n",
       " '__ne__',\n",
       " '__new__',\n",
       " '__reduce__',\n",
       " '__reduce_ex__',\n",
       " '__repr__',\n",
       " '__setattr__',\n",
       " '__sizeof__',\n",
       " '__str__',\n",
       " '__subclasshook__',\n",
       " '__weakref__',\n",
       " '_door',\n",
       " '_enginetype',\n",
       " '_window']"
      ]
     },
     "execution_count": 9,
     "metadata": {},
     "output_type": "execute_result"
    }
   ],
   "source": [
    "dir(bmw)"
   ]
  },
  {
   "cell_type": "markdown",
   "id": "49457f03",
   "metadata": {},
   "source": [
    "We can see that the directory of audi contains attributes like: _door,_enginetype and _window.\n",
    "\n",
    "They are protected variables."
   ]
  },
  {
   "cell_type": "code",
   "execution_count": 10,
   "id": "b197b2b5",
   "metadata": {},
   "outputs": [],
   "source": [
    "class truck(car):\n",
    "    def __init__(self,door,window,enginetype,horsepower):\n",
    "        super().__init__(door,window,enginetype)\n",
    "        self.horsepower=horsepower"
   ]
  },
  {
   "cell_type": "code",
   "execution_count": 11,
   "id": "bdaa2597",
   "metadata": {},
   "outputs": [],
   "source": [
    "tr=truck(4,2,\"petrol\",4500)"
   ]
  },
  {
   "cell_type": "code",
   "execution_count": 12,
   "id": "86cfcc89",
   "metadata": {},
   "outputs": [
    {
     "data": {
      "text/plain": [
       "['__class__',\n",
       " '__delattr__',\n",
       " '__dict__',\n",
       " '__dir__',\n",
       " '__doc__',\n",
       " '__eq__',\n",
       " '__format__',\n",
       " '__ge__',\n",
       " '__getattribute__',\n",
       " '__gt__',\n",
       " '__hash__',\n",
       " '__init__',\n",
       " '__init_subclass__',\n",
       " '__le__',\n",
       " '__lt__',\n",
       " '__module__',\n",
       " '__ne__',\n",
       " '__new__',\n",
       " '__reduce__',\n",
       " '__reduce_ex__',\n",
       " '__repr__',\n",
       " '__setattr__',\n",
       " '__sizeof__',\n",
       " '__str__',\n",
       " '__subclasshook__',\n",
       " '__weakref__',\n",
       " '_door',\n",
       " '_enginetype',\n",
       " '_window',\n",
       " 'horsepower']"
      ]
     },
     "execution_count": 12,
     "metadata": {},
     "output_type": "execute_result"
    }
   ],
   "source": [
    "dir(tr)"
   ]
  },
  {
   "cell_type": "markdown",
   "id": "022bdd67",
   "metadata": {},
   "source": [
    "Here, _door, _enginetype and _window are protected variables.\n",
    "\n",
    "Horsepower is a public variable."
   ]
  },
  {
   "cell_type": "code",
   "execution_count": 13,
   "id": "804119e9",
   "metadata": {},
   "outputs": [],
   "source": [
    "tr._door=2"
   ]
  },
  {
   "cell_type": "code",
   "execution_count": 14,
   "id": "afa61ce5",
   "metadata": {},
   "outputs": [
    {
     "data": {
      "text/plain": [
       "2"
      ]
     },
     "execution_count": 14,
     "metadata": {},
     "output_type": "execute_result"
    }
   ],
   "source": [
    "tr._door"
   ]
  },
  {
   "cell_type": "markdown",
   "id": "9f91334b",
   "metadata": {},
   "source": [
    "## Private access modifiers :"
   ]
  },
  {
   "cell_type": "markdown",
   "id": "5c17548d",
   "metadata": {},
   "source": [
    "Private class can not be accessed from anywhere."
   ]
  },
  {
   "cell_type": "markdown",
   "id": "af5db141",
   "metadata": {},
   "source": [
    "The members of a class that are declared private are accessible within the class only, private access modifier is the most secure access modifier. "
   ]
  },
  {
   "cell_type": "code",
   "execution_count": 15,
   "id": "efe74a02",
   "metadata": {},
   "outputs": [],
   "source": [
    "class car():\n",
    "    def __init__(self,door,window,enginetype):\n",
    "        self.__door=door\n",
    "        self.__enginetype=enginetype\n",
    "        self.__window=window"
   ]
  },
  {
   "cell_type": "code",
   "execution_count": 16,
   "id": "b27b8014",
   "metadata": {},
   "outputs": [],
   "source": [
    "hyundai=car(4,5,\"petrol\")"
   ]
  },
  {
   "cell_type": "code",
   "execution_count": 17,
   "id": "fe747b62",
   "metadata": {},
   "outputs": [
    {
     "data": {
      "text/plain": [
       "['__class__',\n",
       " '__delattr__',\n",
       " '__dict__',\n",
       " '__dir__',\n",
       " '__doc__',\n",
       " '__eq__',\n",
       " '__format__',\n",
       " '__ge__',\n",
       " '__getattribute__',\n",
       " '__gt__',\n",
       " '__hash__',\n",
       " '__init__',\n",
       " '__init_subclass__',\n",
       " '__le__',\n",
       " '__lt__',\n",
       " '__module__',\n",
       " '__ne__',\n",
       " '__new__',\n",
       " '__reduce__',\n",
       " '__reduce_ex__',\n",
       " '__repr__',\n",
       " '__setattr__',\n",
       " '__sizeof__',\n",
       " '__str__',\n",
       " '__subclasshook__',\n",
       " '__weakref__',\n",
       " '_car__door',\n",
       " '_car__enginetype',\n",
       " '_car__window']"
      ]
     },
     "execution_count": 17,
     "metadata": {},
     "output_type": "execute_result"
    }
   ],
   "source": [
    "dir(hyundai)"
   ]
  },
  {
   "cell_type": "markdown",
   "id": "b3d13106",
   "metadata": {},
   "source": [
    "We can see that the directory of hyundai contains attributes like: __door, __enginetype and __window.\n",
    "\n",
    "They are private variables."
   ]
  },
  {
   "cell_type": "code",
   "execution_count": null,
   "id": "e779f681",
   "metadata": {},
   "outputs": [],
   "source": []
  }
 ],
 "metadata": {
  "kernelspec": {
   "display_name": "Python 3 (ipykernel)",
   "language": "python",
   "name": "python3"
  },
  "language_info": {
   "codemirror_mode": {
    "name": "ipython",
    "version": 3
   },
   "file_extension": ".py",
   "mimetype": "text/x-python",
   "name": "python",
   "nbconvert_exporter": "python",
   "pygments_lexer": "ipython3",
   "version": "3.9.7"
  }
 },
 "nbformat": 4,
 "nbformat_minor": 5
}
