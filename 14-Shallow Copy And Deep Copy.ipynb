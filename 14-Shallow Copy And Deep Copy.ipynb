{
 "cells": [
  {
   "cell_type": "markdown",
   "id": "561251ea",
   "metadata": {},
   "source": [
    "## Deep Copy"
   ]
  },
  {
   "cell_type": "markdown",
   "id": "d82698e6",
   "metadata": {},
   "source": [
    "##### Importing copy library for accessing deep copy and shallow copy:"
   ]
  },
  {
   "cell_type": "code",
   "execution_count": 1,
   "id": "97257fef",
   "metadata": {},
   "outputs": [],
   "source": [
    "import copy\n",
    "l1 = [12, 25, 34, [96,82], 57]\n",
    "l2 = copy.deepcopy(l1)"
   ]
  },
  {
   "cell_type": "markdown",
   "id": "63727855",
   "metadata": {},
   "source": [
    "##### Original elements of list are:"
   ]
  },
  {
   "cell_type": "code",
   "execution_count": 2,
   "id": "6cd812b2",
   "metadata": {},
   "outputs": [
    {
     "name": "stdout",
     "output_type": "stream",
     "text": [
      "The elements before deep copying :\n",
      "12 25 34 [96, 82] 57 "
     ]
    }
   ],
   "source": [
    "print (\"The elements before deep copying :\")\n",
    "for i in range(0,len(l1)):\n",
    "    print (l1[i],end=\" \")"
   ]
  },
  {
   "cell_type": "markdown",
   "id": "6971ee82",
   "metadata": {},
   "source": [
    "##### Changing elements in new list:"
   ]
  },
  {
   "cell_type": "code",
   "execution_count": 3,
   "id": "1cf3a00a",
   "metadata": {},
   "outputs": [],
   "source": [
    "l2[3][1] = 72"
   ]
  },
  {
   "cell_type": "markdown",
   "id": "65316323",
   "metadata": {},
   "source": [
    "##### Change is reflected in l2."
   ]
  },
  {
   "cell_type": "code",
   "execution_count": 4,
   "id": "2d0c1bc6",
   "metadata": {},
   "outputs": [
    {
     "name": "stdout",
     "output_type": "stream",
     "text": [
      "The new list after deep copying :\n",
      "12 25 34 [96, 72] 57 "
     ]
    }
   ],
   "source": [
    "print (\"The new list after deep copying :\")\n",
    "for i in range(0,len(l1)):\n",
    "    print (l2[i],end=\" \")"
   ]
  },
  {
   "cell_type": "markdown",
   "id": "8d86f36c",
   "metadata": {},
   "source": [
    "##### Change is not reflected in the original list as it is a deep copy."
   ]
  },
  {
   "cell_type": "code",
   "execution_count": 5,
   "id": "e9c54516",
   "metadata": {},
   "outputs": [
    {
     "name": "stdout",
     "output_type": "stream",
     "text": [
      "The original elements after deep copying :\n",
      "12 25 34 [96, 82] 57 "
     ]
    }
   ],
   "source": [
    "print (\"The original elements after deep copying :\")\n",
    "for i in range(0,len(l1)):\n",
    "    print (l1[i],end=\" \")"
   ]
  },
  {
   "cell_type": "markdown",
   "id": "420a1ff4",
   "metadata": {},
   "source": [
    "## Shallow Copy"
   ]
  },
  {
   "cell_type": "code",
   "execution_count": 17,
   "id": "db2d7531",
   "metadata": {},
   "outputs": [],
   "source": [
    "l3=[45,11,[90,34],78]\n",
    "l4=copy.copy(l3)"
   ]
  },
  {
   "cell_type": "markdown",
   "id": "51d8fcf2",
   "metadata": {},
   "source": [
    "##### Original elements of list are:"
   ]
  },
  {
   "cell_type": "code",
   "execution_count": 18,
   "id": "926247e6",
   "metadata": {},
   "outputs": [
    {
     "name": "stdout",
     "output_type": "stream",
     "text": [
      "The original list :\n",
      "45 11 [90, 34] 78 "
     ]
    }
   ],
   "source": [
    "print(\"The original list :\")\n",
    "for i in range(0,len(l3)):\n",
    "    print(l3[i],end=\" \")"
   ]
  },
  {
   "cell_type": "markdown",
   "id": "fbd2c6a2",
   "metadata": {},
   "source": [
    "##### Changing elements in new list:"
   ]
  },
  {
   "cell_type": "code",
   "execution_count": 19,
   "id": "9e1e254b",
   "metadata": {},
   "outputs": [],
   "source": [
    "l4[2][0]=22"
   ]
  },
  {
   "cell_type": "markdown",
   "id": "d41f0db8",
   "metadata": {},
   "source": [
    "##### Change is reflected in both l3 and l4."
   ]
  },
  {
   "cell_type": "code",
   "execution_count": 22,
   "id": "5a5e4dab",
   "metadata": {},
   "outputs": [
    {
     "name": "stdout",
     "output_type": "stream",
     "text": [
      "The original elements after shallow copying :\n",
      "45 11 [22, 34] 78 "
     ]
    }
   ],
   "source": [
    "print (\"The original elements after shallow copying :\")\n",
    "for i in range(0,len(l3)):\n",
    "    print (l4[i],end=\" \")"
   ]
  },
  {
   "cell_type": "markdown",
   "id": "e94178e7",
   "metadata": {},
   "source": [
    "##### Change is reflected in the original list as it is a shallow copy."
   ]
  },
  {
   "cell_type": "code",
   "execution_count": 23,
   "id": "bc5e6818",
   "metadata": {},
   "outputs": [
    {
     "name": "stdout",
     "output_type": "stream",
     "text": [
      "The original elements after shallow copying :\n",
      "45 11 [22, 34] 78 "
     ]
    }
   ],
   "source": [
    "print (\"The original elements after shallow copying :\")\n",
    "for i in range(0,len(l3)):\n",
    "    print (l3[i],end=\" \")"
   ]
  },
  {
   "cell_type": "code",
   "execution_count": null,
   "id": "3f174048",
   "metadata": {},
   "outputs": [],
   "source": []
  }
 ],
 "metadata": {
  "kernelspec": {
   "display_name": "Python 3 (ipykernel)",
   "language": "python",
   "name": "python3"
  },
  "language_info": {
   "codemirror_mode": {
    "name": "ipython",
    "version": 3
   },
   "file_extension": ".py",
   "mimetype": "text/x-python",
   "name": "python",
   "nbconvert_exporter": "python",
   "pygments_lexer": "ipython3",
   "version": "3.9.7"
  }
 },
 "nbformat": 4,
 "nbformat_minor": 5
}
