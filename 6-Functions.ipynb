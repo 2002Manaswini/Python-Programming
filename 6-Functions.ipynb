{
 "cells": [
  {
   "cell_type": "markdown",
   "id": "56fc6c0f",
   "metadata": {},
   "source": [
    "## Functions In Python"
   ]
  },
  {
   "cell_type": "markdown",
   "id": "b1699f27",
   "metadata": {},
   "source": [
    "Functions are a group of statements that perform a specific task."
   ]
  },
  {
   "cell_type": "markdown",
   "id": "934b2878",
   "metadata": {},
   "source": [
    "It is a block of code which runs only when it is called."
   ]
  },
  {
   "cell_type": "code",
   "execution_count": 1,
   "id": "63889074",
   "metadata": {},
   "outputs": [
    {
     "name": "stdout",
     "output_type": "stream",
     "text": [
      "The number is an even number.\n"
     ]
    }
   ],
   "source": [
    "num=20\n",
    "\n",
    "if num%2==0:\n",
    "    print(\"The number is an even number.\")\n",
    "else:\n",
    "    print(\"The number is an odd number.\")"
   ]
  },
  {
   "cell_type": "code",
   "execution_count": 2,
   "id": "4722875f",
   "metadata": {},
   "outputs": [],
   "source": [
    "def even_odd(num):\n",
    "    if num%2==0:\n",
    "        print(\"The number is an even number.\")\n",
    "    else:\n",
    "        print(\"The number is an odd number.\")"
   ]
  },
  {
   "cell_type": "code",
   "execution_count": 3,
   "id": "9dcb2ee3",
   "metadata": {},
   "outputs": [
    {
     "name": "stdout",
     "output_type": "stream",
     "text": [
      "The number is an odd number.\n"
     ]
    }
   ],
   "source": [
    "even_odd(25)"
   ]
  },
  {
   "cell_type": "code",
   "execution_count": 4,
   "id": "4b26724e",
   "metadata": {},
   "outputs": [
    {
     "name": "stdout",
     "output_type": "stream",
     "text": [
      "The number is an even number.\n"
     ]
    }
   ],
   "source": [
    "even_odd(14)"
   ]
  },
  {
   "cell_type": "code",
   "execution_count": 5,
   "id": "6403bc5a",
   "metadata": {},
   "outputs": [],
   "source": [
    "def hello():\n",
    "    print(\"Hello everyone!\")"
   ]
  },
  {
   "cell_type": "code",
   "execution_count": 6,
   "id": "0a94ea98",
   "metadata": {},
   "outputs": [
    {
     "name": "stdout",
     "output_type": "stream",
     "text": [
      "Hello everyone!\n"
     ]
    }
   ],
   "source": [
    "hello()"
   ]
  },
  {
   "cell_type": "code",
   "execution_count": 7,
   "id": "c2897d63",
   "metadata": {},
   "outputs": [],
   "source": [
    "def add_num(n1,n2):\n",
    "    sum=n1+n2\n",
    "    print(\"sum of numbers :\",sum)"
   ]
  },
  {
   "cell_type": "code",
   "execution_count": 8,
   "id": "f8676304",
   "metadata": {},
   "outputs": [
    {
     "name": "stdout",
     "output_type": "stream",
     "text": [
      "sum of numbers : 11\n"
     ]
    }
   ],
   "source": [
    "add_num(5,6)"
   ]
  },
  {
   "cell_type": "code",
   "execution_count": 9,
   "id": "7e70b691",
   "metadata": {},
   "outputs": [
    {
     "data": {
      "text/plain": [
       "9"
      ]
     },
     "execution_count": 9,
     "metadata": {},
     "output_type": "execute_result"
    }
   ],
   "source": [
    "def sum(m1,m2):\n",
    "    return m1+m2\n",
    "\n",
    "val= sum(4,5)\n",
    "val"
   ]
  },
  {
   "cell_type": "markdown",
   "id": "759ec38d",
   "metadata": {},
   "source": [
    "#### Positional and keyword arguments"
   ]
  },
  {
   "cell_type": "markdown",
   "id": "39f83ba6",
   "metadata": {},
   "source": [
    "\"age\" is the keyword argument and \"name\" is the positional argument."
   ]
  },
  {
   "cell_type": "code",
   "execution_count": 10,
   "id": "628995f2",
   "metadata": {},
   "outputs": [
    {
     "name": "stdout",
     "output_type": "stream",
     "text": [
      "My name is Manaswini and my age is 21\n"
     ]
    }
   ],
   "source": [
    "def hlw(name,age=21):\n",
    "    print(\"My name is {} and my age is {}\".format(name,age))\n",
    "    \n",
    "hlw(\"Manaswini\")"
   ]
  },
  {
   "cell_type": "code",
   "execution_count": 11,
   "id": "0ecc559e",
   "metadata": {},
   "outputs": [],
   "source": [
    "def helo(*args,**kwargs):\n",
    "    print(args)\n",
    "    print(kwargs)"
   ]
  },
  {
   "cell_type": "code",
   "execution_count": 12,
   "id": "22639db4",
   "metadata": {},
   "outputs": [
    {
     "name": "stdout",
     "output_type": "stream",
     "text": [
      "('Roshni', 'Manaswini')\n",
      "{'age': 10, 'dob': 2002}\n"
     ]
    }
   ],
   "source": [
    "helo(\"Roshni\",\"Manaswini\",age=10,dob=2002)"
   ]
  },
  {
   "cell_type": "code",
   "execution_count": 13,
   "id": "aabff3de",
   "metadata": {},
   "outputs": [
    {
     "name": "stdout",
     "output_type": "stream",
     "text": [
      "30 25\n"
     ]
    }
   ],
   "source": [
    "l=[1,2,3,4,5,6,7,8,9,10]\n",
    "\n",
    "even_sum=0\n",
    "odd_sum=0\n",
    "for i in l:\n",
    "    if i%2==0:\n",
    "        even_sum=even_sum+i\n",
    "    else:\n",
    "        odd_sum=odd_sum+i\n",
    "print(even_sum,odd_sum)\n",
    "        "
   ]
  },
  {
   "cell_type": "code",
   "execution_count": 14,
   "id": "d8045bae",
   "metadata": {},
   "outputs": [],
   "source": [
    "def sum_num(l):\n",
    "    sum=0\n",
    "    for i in l:\n",
    "        print(i)\n",
    "        sum=sum+i\n",
    "    return sum"
   ]
  },
  {
   "cell_type": "code",
   "execution_count": 15,
   "id": "357e8315",
   "metadata": {},
   "outputs": [
    {
     "name": "stdout",
     "output_type": "stream",
     "text": [
      "1\n",
      "2\n",
      "3\n",
      "4\n",
      "5\n",
      "6\n"
     ]
    },
    {
     "data": {
      "text/plain": [
       "21"
      ]
     },
     "execution_count": 15,
     "metadata": {},
     "output_type": "execute_result"
    }
   ],
   "source": [
    "sum_num([1,2,3,4,5,6])"
   ]
  },
  {
   "cell_type": "markdown",
   "id": "302ea76b",
   "metadata": {},
   "source": [
    "## Map Function"
   ]
  },
  {
   "cell_type": "markdown",
   "id": "657ed5a3",
   "metadata": {},
   "source": [
    "##### finding whether the number is even or odd :"
   ]
  },
  {
   "cell_type": "code",
   "execution_count": 16,
   "id": "eb34540c",
   "metadata": {},
   "outputs": [],
   "source": [
    "def even_odd(num):\n",
    "    if num%2==0:\n",
    "        print(num,\"is even number.\")\n",
    "    else:\n",
    "        print(num,\"is odd number.\")"
   ]
  },
  {
   "cell_type": "code",
   "execution_count": 17,
   "id": "693806e9",
   "metadata": {},
   "outputs": [
    {
     "name": "stdout",
     "output_type": "stream",
     "text": [
      "20 is even number.\n"
     ]
    }
   ],
   "source": [
    "num=20\n",
    "even_odd(num)"
   ]
  },
  {
   "cell_type": "code",
   "execution_count": 18,
   "id": "5e21677b",
   "metadata": {},
   "outputs": [],
   "source": [
    "l=[1,2,3,4,5,6,7,8,9]"
   ]
  },
  {
   "cell_type": "code",
   "execution_count": 19,
   "id": "f937990f",
   "metadata": {},
   "outputs": [
    {
     "name": "stdout",
     "output_type": "stream",
     "text": [
      "1 is odd number.\n",
      "2 is even number.\n",
      "3 is odd number.\n",
      "4 is even number.\n",
      "5 is odd number.\n",
      "6 is even number.\n",
      "7 is odd number.\n",
      "8 is even number.\n",
      "9 is odd number.\n"
     ]
    },
    {
     "data": {
      "text/plain": [
       "[None, None, None, None, None, None, None, None, None]"
      ]
     },
     "execution_count": 19,
     "metadata": {},
     "output_type": "execute_result"
    }
   ],
   "source": [
    "list(map(even_odd,l))"
   ]
  },
  {
   "cell_type": "code",
   "execution_count": 20,
   "id": "ad45aaeb",
   "metadata": {},
   "outputs": [],
   "source": [
    "def even_or_odd(num1):\n",
    "    if num1%2==0:\n",
    "        return \"The number {} is even.\".format(num1)\n",
    "    else:\n",
    "        return \"The number {} is odd.\".format(num1)"
   ]
  },
  {
   "cell_type": "code",
   "execution_count": 21,
   "id": "f209affb",
   "metadata": {},
   "outputs": [
    {
     "data": {
      "text/plain": [
       "'The number 25 is odd.'"
      ]
     },
     "execution_count": 21,
     "metadata": {},
     "output_type": "execute_result"
    }
   ],
   "source": [
    "even_or_odd(25)"
   ]
  },
  {
   "cell_type": "code",
   "execution_count": 22,
   "id": "64afdd9a",
   "metadata": {},
   "outputs": [],
   "source": [
    "ls=[45,12,75,76,35,22,77]"
   ]
  },
  {
   "cell_type": "code",
   "execution_count": 23,
   "id": "879e385e",
   "metadata": {},
   "outputs": [
    {
     "data": {
      "text/plain": [
       "['The number 45 is odd.',\n",
       " 'The number 12 is even.',\n",
       " 'The number 75 is odd.',\n",
       " 'The number 76 is even.',\n",
       " 'The number 35 is odd.',\n",
       " 'The number 22 is even.',\n",
       " 'The number 77 is odd.']"
      ]
     },
     "execution_count": 23,
     "metadata": {},
     "output_type": "execute_result"
    }
   ],
   "source": [
    "list(map(even_or_odd,ls))"
   ]
  },
  {
   "cell_type": "markdown",
   "id": "41690eef",
   "metadata": {},
   "source": [
    "##### finding sum of number with the number itself :"
   ]
  },
  {
   "cell_type": "code",
   "execution_count": 24,
   "id": "4fc0437d",
   "metadata": {},
   "outputs": [],
   "source": [
    "def sum_num(n):\n",
    "    return n+n"
   ]
  },
  {
   "cell_type": "code",
   "execution_count": 25,
   "id": "0fc83af5",
   "metadata": {},
   "outputs": [
    {
     "data": {
      "text/plain": [
       "10"
      ]
     },
     "execution_count": 25,
     "metadata": {},
     "output_type": "execute_result"
    }
   ],
   "source": [
    "sum_num(5)"
   ]
  },
  {
   "cell_type": "code",
   "execution_count": 26,
   "id": "46c95948",
   "metadata": {},
   "outputs": [
    {
     "data": {
      "text/plain": [
       "[4, 8, 12, 16]"
      ]
     },
     "execution_count": 26,
     "metadata": {},
     "output_type": "execute_result"
    }
   ],
   "source": [
    "lst=[2,4,6,8]\n",
    "list(map(sum_num,lst))"
   ]
  },
  {
   "cell_type": "markdown",
   "id": "c4d24d17",
   "metadata": {},
   "source": [
    "## Lambda Function"
   ]
  },
  {
   "cell_type": "markdown",
   "id": "45653a45",
   "metadata": {},
   "source": [
    "It is an annonymous function i.e. a function with no name."
   ]
  },
  {
   "cell_type": "code",
   "execution_count": 27,
   "id": "93a32085",
   "metadata": {},
   "outputs": [],
   "source": [
    "def add(a,b):\n",
    "    return a+b"
   ]
  },
  {
   "cell_type": "code",
   "execution_count": 28,
   "id": "e0f29216",
   "metadata": {},
   "outputs": [
    {
     "data": {
      "text/plain": [
       "15"
      ]
     },
     "execution_count": 28,
     "metadata": {},
     "output_type": "execute_result"
    }
   ],
   "source": [
    "add(7,8)"
   ]
  },
  {
   "cell_type": "markdown",
   "id": "db752f4a",
   "metadata": {},
   "source": [
    "The lambda function is used only if there is a single expression."
   ]
  },
  {
   "cell_type": "code",
   "execution_count": 29,
   "id": "f6bd6c57",
   "metadata": {},
   "outputs": [],
   "source": [
    "ad=lambda a,b:a+b"
   ]
  },
  {
   "cell_type": "code",
   "execution_count": 30,
   "id": "ba429797",
   "metadata": {},
   "outputs": [
    {
     "data": {
      "text/plain": [
       "9"
      ]
     },
     "execution_count": 30,
     "metadata": {},
     "output_type": "execute_result"
    }
   ],
   "source": [
    "ad(4,5)"
   ]
  },
  {
   "cell_type": "code",
   "execution_count": 31,
   "id": "84af10c8",
   "metadata": {},
   "outputs": [],
   "source": [
    "def even_num(n):\n",
    "    if n%2==0:\n",
    "        print(\"Even\")"
   ]
  },
  {
   "cell_type": "code",
   "execution_count": 32,
   "id": "50cf835c",
   "metadata": {},
   "outputs": [],
   "source": [
    "even=lambda a:a%2==0"
   ]
  },
  {
   "cell_type": "code",
   "execution_count": 33,
   "id": "e1465ddf",
   "metadata": {},
   "outputs": [
    {
     "data": {
      "text/plain": [
       "True"
      ]
     },
     "execution_count": 33,
     "metadata": {},
     "output_type": "execute_result"
    }
   ],
   "source": [
    "even(20)"
   ]
  },
  {
   "cell_type": "code",
   "execution_count": 34,
   "id": "7671d7ec",
   "metadata": {},
   "outputs": [],
   "source": [
    "add=lambda x,y,z:x+y+z"
   ]
  },
  {
   "cell_type": "code",
   "execution_count": 35,
   "id": "b49b2088",
   "metadata": {},
   "outputs": [
    {
     "data": {
      "text/plain": [
       "18"
      ]
     },
     "execution_count": 35,
     "metadata": {},
     "output_type": "execute_result"
    }
   ],
   "source": [
    "add(5,6,7)"
   ]
  },
  {
   "cell_type": "markdown",
   "id": "12a0ac03",
   "metadata": {},
   "source": [
    "## Filter Function"
   ]
  },
  {
   "cell_type": "markdown",
   "id": "0e50e946",
   "metadata": {},
   "source": [
    "##### finding even numbers :"
   ]
  },
  {
   "cell_type": "code",
   "execution_count": 36,
   "id": "79d9458e",
   "metadata": {},
   "outputs": [],
   "source": [
    "def even(num):\n",
    "    if num%2==0:\n",
    "        return True"
   ]
  },
  {
   "cell_type": "code",
   "execution_count": 37,
   "id": "997bf06e",
   "metadata": {},
   "outputs": [
    {
     "data": {
      "text/plain": [
       "[2, 4, 6, 8]"
      ]
     },
     "execution_count": 37,
     "metadata": {},
     "output_type": "execute_result"
    }
   ],
   "source": [
    "ls=[1,2,3,4,5,6,7,8,9]\n",
    "list(filter(even,ls))"
   ]
  },
  {
   "cell_type": "markdown",
   "id": "1b8c9e77",
   "metadata": {},
   "source": [
    "##### filter with lambda function :"
   ]
  },
  {
   "cell_type": "code",
   "execution_count": 38,
   "id": "8ad7e245",
   "metadata": {},
   "outputs": [],
   "source": [
    "lst=[33,44,24,21,68,78,99]"
   ]
  },
  {
   "cell_type": "code",
   "execution_count": 39,
   "id": "f3b07684",
   "metadata": {},
   "outputs": [
    {
     "data": {
      "text/plain": [
       "[44, 24, 68, 78]"
      ]
     },
     "execution_count": 39,
     "metadata": {},
     "output_type": "execute_result"
    }
   ],
   "source": [
    "list(filter(lambda num:num%2==0, lst))"
   ]
  },
  {
   "cell_type": "markdown",
   "id": "c71acaae",
   "metadata": {},
   "source": [
    "##### using map instead of lambda function :"
   ]
  },
  {
   "cell_type": "code",
   "execution_count": 40,
   "id": "2e561c98",
   "metadata": {},
   "outputs": [
    {
     "data": {
      "text/plain": [
       "[False, True, True, False, True, True, False]"
      ]
     },
     "execution_count": 40,
     "metadata": {},
     "output_type": "execute_result"
    }
   ],
   "source": [
    "list(map(lambda num:num%2==0,lst))"
   ]
  },
  {
   "cell_type": "code",
   "execution_count": null,
   "id": "d91bc6ee",
   "metadata": {},
   "outputs": [],
   "source": []
  }
 ],
 "metadata": {
  "kernelspec": {
   "display_name": "Python 3 (ipykernel)",
   "language": "python",
   "name": "python3"
  },
  "language_info": {
   "codemirror_mode": {
    "name": "ipython",
    "version": 3
   },
   "file_extension": ".py",
   "mimetype": "text/x-python",
   "name": "python",
   "nbconvert_exporter": "python",
   "pygments_lexer": "ipython3",
   "version": "3.9.7"
  }
 },
 "nbformat": 4,
 "nbformat_minor": 5
}
