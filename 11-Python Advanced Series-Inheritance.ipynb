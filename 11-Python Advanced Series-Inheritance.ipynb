{
 "cells": [
  {
   "cell_type": "markdown",
   "id": "845af86d",
   "metadata": {},
   "source": [
    "## Inheritance"
   ]
  },
  {
   "cell_type": "markdown",
   "id": "6914f063",
   "metadata": {},
   "source": [
    "Inheritance allows us to define a class that inherits all the methods and properties from another class.\n",
    "\n",
    "Parent class is the class being inherited from, also called base class.\n",
    "\n",
    "Child class is the class that inherits from another class, also called derived class."
   ]
  },
  {
   "cell_type": "code",
   "execution_count": 1,
   "id": "0bdb0019",
   "metadata": {},
   "outputs": [],
   "source": [
    "class car():\n",
    "    def __init__(self,window,enginetype,door):\n",
    "        self.enginetype=enginetype\n",
    "        self.door=door\n",
    "        self.window=window\n",
    "    def drive(self):\n",
    "        print(\"The person drives the car.\")"
   ]
  },
  {
   "cell_type": "code",
   "execution_count": 2,
   "id": "3669d36f",
   "metadata": {},
   "outputs": [],
   "source": [
    "audi=car(4,\"petrol\",4)"
   ]
  },
  {
   "cell_type": "code",
   "execution_count": 3,
   "id": "0beab8da",
   "metadata": {},
   "outputs": [
    {
     "name": "stdout",
     "output_type": "stream",
     "text": [
      "The person drives the car.\n"
     ]
    }
   ],
   "source": [
    "audi.drive()"
   ]
  },
  {
   "cell_type": "code",
   "execution_count": 4,
   "id": "fa3795aa",
   "metadata": {},
   "outputs": [],
   "source": [
    "class audi(car):\n",
    "    def __init__(self,window,enginetype,door,enableai):\n",
    "        super().__init__(window,door,enginetype)\n",
    "        self.enableai=enableai\n",
    "    def selfdrive(self):\n",
    "        print(\"Audi supports Self driving.\")"
   ]
  },
  {
   "cell_type": "code",
   "execution_count": 5,
   "id": "09a4852e",
   "metadata": {},
   "outputs": [],
   "source": [
    "audiQ3=audi(4,\"petrol\",4,True)"
   ]
  },
  {
   "cell_type": "code",
   "execution_count": 6,
   "id": "72863b76",
   "metadata": {},
   "outputs": [
    {
     "name": "stdout",
     "output_type": "stream",
     "text": [
      "Audi supports Self driving.\n"
     ]
    }
   ],
   "source": [
    "audiQ3.selfdrive()"
   ]
  },
  {
   "cell_type": "markdown",
   "id": "81a27eb9",
   "metadata": {},
   "source": [
    "## Multiple Inheritance "
   ]
  },
  {
   "cell_type": "code",
   "execution_count": 7,
   "id": "5c548f58",
   "metadata": {},
   "outputs": [],
   "source": [
    "class A():\n",
    "    def method1(self):\n",
    "        print(\"Method1 A is called.\")"
   ]
  },
  {
   "cell_type": "code",
   "execution_count": 8,
   "id": "4f4abbe9",
   "metadata": {},
   "outputs": [],
   "source": [
    "class B(A):\n",
    "    def method1(self):\n",
    "        print(\"Method1 B is called.\")\n",
    "    def method2(self):\n",
    "        print(\"Method2 B is called.\")"
   ]
  },
  {
   "cell_type": "code",
   "execution_count": 9,
   "id": "05917883",
   "metadata": {},
   "outputs": [],
   "source": [
    "class C(B):\n",
    "    def method1(self):\n",
    "        print(\"Method1 C is called.\")"
   ]
  },
  {
   "cell_type": "code",
   "execution_count": 10,
   "id": "d5b78151",
   "metadata": {},
   "outputs": [],
   "source": [
    "class D(C):\n",
    "    def method1(self):\n",
    "        print(\"Method1 D is called.\")\n",
    "        C.method1(self)\n",
    "        B.method1(self)\n",
    "        A.method1(self)"
   ]
  },
  {
   "cell_type": "code",
   "execution_count": 11,
   "id": "e24772cd",
   "metadata": {},
   "outputs": [],
   "source": [
    "d=D()"
   ]
  },
  {
   "cell_type": "code",
   "execution_count": 12,
   "id": "1957e20b",
   "metadata": {},
   "outputs": [
    {
     "name": "stdout",
     "output_type": "stream",
     "text": [
      "Method1 D is called.\n",
      "Method1 C is called.\n",
      "Method1 B is called.\n",
      "Method1 A is called.\n"
     ]
    }
   ],
   "source": [
    "d.method1()"
   ]
  },
  {
   "cell_type": "code",
   "execution_count": 13,
   "id": "19985c0d",
   "metadata": {},
   "outputs": [
    {
     "name": "stdout",
     "output_type": "stream",
     "text": [
      "Method1 B is called.\n"
     ]
    }
   ],
   "source": [
    "B.method1(d)"
   ]
  },
  {
   "cell_type": "code",
   "execution_count": 14,
   "id": "a7c418fc",
   "metadata": {},
   "outputs": [
    {
     "name": "stdout",
     "output_type": "stream",
     "text": [
      "Method2 B is called.\n"
     ]
    }
   ],
   "source": [
    "B.method2(d)"
   ]
  },
  {
   "cell_type": "code",
   "execution_count": null,
   "id": "28b5bb0d",
   "metadata": {},
   "outputs": [],
   "source": []
  }
 ],
 "metadata": {
  "kernelspec": {
   "display_name": "Python 3 (ipykernel)",
   "language": "python",
   "name": "python3"
  },
  "language_info": {
   "codemirror_mode": {
    "name": "ipython",
    "version": 3
   },
   "file_extension": ".py",
   "mimetype": "text/x-python",
   "name": "python",
   "nbconvert_exporter": "python",
   "pygments_lexer": "ipython3",
   "version": "3.9.7"
  }
 },
 "nbformat": 4,
 "nbformat_minor": 5
}
